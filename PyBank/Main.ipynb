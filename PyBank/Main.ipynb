{
 "cells": [
  {
   "cell_type": "code",
   "execution_count": 17,
   "metadata": {},
   "outputs": [],
   "source": [
    "# Import from the pathlib library, import CSV\n",
    "from pathlib import Path\n",
    "import csv \n",
    "\n",
    "# Set the input file path irregardless of OS\n",
    "csvpath = Path('../PyBank/budget_data.csv')"
   ]
  },
  {
   "cell_type": "code",
   "execution_count": 18,
   "metadata": {},
   "outputs": [],
   "source": [
    "#creating a list to hold profit/loss info \n",
    "P_L = []\n",
    "\n",
    "#creating a list to hold dates info\n",
    "P_L_Date = []\n",
    "\n",
    "#Initialize line number variable\n",
    "line_num = 0"
   ]
  },
  {
   "cell_type": "code",
   "execution_count": 19,
   "metadata": {},
   "outputs": [
    {
     "name": "stdout",
     "output_type": "stream",
     "text": [
      "<class '_io.TextIOWrapper'>\n",
      "<class '_csv.reader'>\n",
      "['Date', 'Profit/Losses'] <-----HEADER\n",
      "[867884, 984655, 322013, -69417, 310503, 522857, 1033096, 604885, -216386, 477532, 893810, -80353, 779806, -335203, 697845, 793163, 485070, 584122, 62729, 668179, 899906, 834719, 132003, 309978, -755566, 1170593, 252788, 1151518, 817256, 570757, 506702, -1022534, 475062, 779976, 144175, 542494, 359333, 321469, 67780, 471435, 565603, 872480, 789480, 999942, -1196225, 268997, -687986, 1150461, 682458, 617856, 824098, 581943, 132864, 448062, 689161, 800701, 1166643, 947333, 578668, 988505, 1139715, 1029471, 687533, -524626, 158620, 87795, 423389, 840723, 568529, 332067, 989499, 778237, 650000, -1100387, -174946, 757143, 445709, 712961, -1163797, 569899, 768450, 102685, 795914, 60988, 138230, 671099]\n",
      "['Jan-2010', 'Feb-2010', 'Mar-2010', 'Apr-2010', 'May-2010', 'Jun-2010', 'Jul-2010', 'Aug-2010', 'Sep-2010', 'Oct-2010', 'Nov-2010', 'Dec-2010', 'Jan-2011', 'Feb-2011', 'Mar-2011', 'Apr-2011', 'May-2011', 'Jun-2011', 'Jul-2011', 'Aug-2011', 'Sep-2011', 'Oct-2011', 'Nov-2011', 'Dec-2011', 'Jan-2012', 'Feb-2012', 'Mar-2012', 'Apr-2012', 'May-2012', 'Jun-2012', 'Jul-2012', 'Aug-2012', 'Sep-2012', 'Oct-2012', 'Nov-2012', 'Dec-2012', 'Jan-2013', 'Feb-2013', 'Mar-2013', 'Apr-2013', 'May-2013', 'Jun-2013', 'Jul-2013', 'Aug-2013', 'Sep-2013', 'Oct-2013', 'Nov-2013', 'Dec-2013', 'Jan-2014', 'Feb-2014', 'Mar-2014', 'Apr-2014', 'May-2014', 'Jun-2014', 'Jul-2014', 'Aug-2014', 'Sep-2014', 'Oct-2014', 'Nov-2014', 'Dec-2014', 'Jan-2015', 'Feb-2015', 'Mar-2015', 'Apr-2015', 'May-2015', 'Jun-2015', 'Jul-2015', 'Aug-2015', 'Sep-2015', 'Oct-2015', 'Nov-2015', 'Dec-2015', 'Jan-2016', 'Feb-2016', 'Mar-2016', 'Apr-2016', 'May-2016', 'Jun-2016', 'Jul-2016', 'Aug-2016', 'Sep-2016', 'Oct-2016', 'Nov-2016', 'Dec-2016', 'Jan-2017', 'Feb-2017']\n"
     ]
    }
   ],
   "source": [
    "#open and read the input path as a file object\n",
    "with open(csvpath, 'r') as csvfile:\n",
    "    #print the datatype of the file object\n",
    "    print(type(csvfile))\n",
    "    \n",
    "    #pass in the csv file to the csv.reader() function\n",
    "    #, as the delimiter and return the csvreader object\n",
    "    csvreader = csv.reader(csvfile, delimiter=',')\n",
    "    print(type(csvreader))\n",
    "    \n",
    "    #go to the next row from the start of the file\n",
    "    #which is often the first row/header and iterate line_num by 1\n",
    "    header = next(csvreader)\n",
    "    #print the header\n",
    "    print(f\"{header} <-----HEADER\")\n",
    "    #read each row of data after the header\n",
    "    for row in csvreader:\n",
    "        #set profit variable equal to the value in the 2nd column of each row\n",
    "        date = str(row[0])\n",
    "        #append the raw date values to list of dates\n",
    "        P_L_Date.append(date)\n",
    "        #I want my profits to be integers, but I don't want my header to be labeled as an integer. start at row index 1\n",
    "        profit = int(row[1])\n",
    "        #append the raw profit/loss value to the list of profits\n",
    "        P_L.append(profit)\n",
    "print(P_L)\n",
    "print(P_L_Date)"
   ]
  },
  {
   "cell_type": "code",
   "execution_count": 20,
   "metadata": {},
   "outputs": [],
   "source": [
    "#define my metric variables\n",
    "greatest_increase = 0\n",
    "greatest_decrease = 0\n",
    "count_month = 0\n",
    "total_profit = 0"
   ]
  },
  {
   "cell_type": "code",
   "execution_count": 21,
   "metadata": {},
   "outputs": [],
   "source": [
    "#Calculate the following:\n",
    "for profit in P_L:\n",
    "    #The total number of months included in the dataset.\n",
    "    count_month += 1"
   ]
  },
  {
   "cell_type": "code",
   "execution_count": 22,
   "metadata": {},
   "outputs": [],
   "source": [
    "    #The net total amount of Profit/Losses over the entire period.\n",
    "    total_profit += profit"
   ]
  },
  {
   "cell_type": "code",
   "execution_count": 23,
   "metadata": {},
   "outputs": [],
   "source": [
    "#creating a list to hold net change amount  \n",
    "net_change = []\n",
    "for i in range(1,len(P_L)):\n",
    "    nc = P_L[i] - P_L[i-1]\n",
    "    net_change.append(nc)\n",
    "\n",
    "\n",
    "    "
   ]
  },
  {
   "cell_type": "code",
   "execution_count": 8,
   "metadata": {},
   "outputs": [
    {
     "name": "stdout",
     "output_type": "stream",
     "text": [
      "[116771, -662642, -391430, 379920, 212354, 510239, -428211, -821271, 693918, 416278, -974163, 860159, -1115009, 1033048, 95318, -308093, 99052, -521393, 605450, 231727, -65187, -702716, 177975, -1065544, 1926159, -917805, 898730, -334262, -246499, -64055, -1529236, 1497596, 304914, -635801, 398319, -183161, -37864, -253689, 403655, 94168, 306877, -83000, 210462, -2196167, 1465222, -956983, 1838447, -468003, -64602, 206242, -242155, -449079, 315198, 241099, 111540, 365942, -219310, -368665, 409837, 151210, -110244, -341938, -1212159, 683246, -70825, 335594, 417334, -272194, -236462, 657432, -211262, -128237, -1750387, 925441, 932089, -311434, 267252, -1876758, 1733696, 198551, -665765, 693229, -734926, 77242, 532869]\n"
     ]
    }
   ],
   "source": [
    "print(net_change)"
   ]
  },
  {
   "cell_type": "code",
   "execution_count": 9,
   "metadata": {},
   "outputs": [
    {
     "name": "stdout",
     "output_type": "stream",
     "text": [
      "-2315.12\n"
     ]
    }
   ],
   "source": [
    "#The average of the changes in Profit/Losses over the entire period.\n",
    "average_change = round(sum(net_change) / len(net_change), 2)\n",
    "print(average_change)"
   ]
  },
  {
   "cell_type": "code",
   "execution_count": 10,
   "metadata": {},
   "outputs": [
    {
     "name": "stdout",
     "output_type": "stream",
     "text": [
      "1926159\n"
     ]
    },
    {
     "data": {
      "text/plain": [
       "24"
      ]
     },
     "execution_count": 10,
     "metadata": {},
     "output_type": "execute_result"
    }
   ],
   "source": [
    "#The greatest increase in profits (date and amount) over the entire period.\n",
    "\n",
    "max_change = max(net_change)\n",
    "print(max_change)\n",
    "net_change.index(1926159)"
   ]
  },
  {
   "cell_type": "code",
   "execution_count": 11,
   "metadata": {},
   "outputs": [
    {
     "data": {
      "text/plain": [
       "'Feb-2012'"
      ]
     },
     "execution_count": 11,
     "metadata": {},
     "output_type": "execute_result"
    }
   ],
   "source": [
    "#find corresponding date for that index position. ADD 1 because first month is not included in our net_change calculation\n",
    "P_L_Date[24+1]"
   ]
  },
  {
   "cell_type": "code",
   "execution_count": 12,
   "metadata": {},
   "outputs": [
    {
     "name": "stdout",
     "output_type": "stream",
     "text": [
      "-2196167\n"
     ]
    },
    {
     "data": {
      "text/plain": [
       "43"
      ]
     },
     "execution_count": 12,
     "metadata": {},
     "output_type": "execute_result"
    }
   ],
   "source": [
    "min_change = min(net_change)\n",
    "print(min_change)\n",
    "#find index position of largest decrease\n",
    "net_change.index(-2196167)"
   ]
  },
  {
   "cell_type": "code",
   "execution_count": 13,
   "metadata": {},
   "outputs": [
    {
     "data": {
      "text/plain": [
       "'Sep-2013'"
      ]
     },
     "execution_count": 13,
     "metadata": {},
     "output_type": "execute_result"
    }
   ],
   "source": [
    "#find corresponding date for that index position. ADD 1 because first month is not included in our net_change calculation\n",
    "P_L_Date[43+1]"
   ]
  },
  {
   "cell_type": "code",
   "execution_count": 14,
   "metadata": {},
   "outputs": [],
   "source": [
    "    if greatest_decrease == 0:\n",
    "        greatest_decrease = profit\n",
    "    elif profit > greatest_increase:\n",
    "        greatest_increase = profit\n",
    "    elif profit < greatest_decrease:\n",
    "        greatest_decrease = profit\n",
    "    "
   ]
  },
  {
   "cell_type": "code",
   "execution_count": 15,
   "metadata": {},
   "outputs": [
    {
     "name": "stdout",
     "output_type": "stream",
     "text": [
      "The total number of months in this data set is 86.\n",
      "The total amount of profit from 86 months of trading is $671099.\n",
      "The average change in Profit/Losses is $-2315.12\n",
      "Greatest increase in profits: Feb-2012 | $1926159\n",
      "Greatest decrease in profits: Sep-2013 | $-2196167\n"
     ]
    }
   ],
   "source": [
    "#Print the analysis\n",
    "print(f\"The total number of months in this data set is {count_month}.\")\n",
    "print(f\"The total amount of profit from {count_month} months of trading is ${total_profit}.\")\n",
    "print(f\"The average change in Profit/Losses is ${average_change}\")\n",
    "print(f\"Greatest increase in profits: {P_L_Date[24+1]} | ${max_change}\")\n",
    "print(f\"Greatest decrease in profits: {P_L_Date[43+1]} | ${min_change}\")"
   ]
  },
  {
   "cell_type": "code",
   "execution_count": 16,
   "metadata": {},
   "outputs": [],
   "source": [
    "#Export the same analysis to a text file; \"output.txt\"\n",
    "with open('output.txt','w') as f:\n",
    "    (f.write(f\"The total number of months in this data set is {count_month}. \\nThe total amount of profit from {count_month} months of trading is ${total_profit}. \\nThe average change in Profit/Losses is ${average_change} \\nThe total amount of profit from {count_month} months of trading is ${total_profit}. \\nGreatest increase in profits: {P_L_Date[24+1]} | ${max_change} \\nGreatest decrease in profits: {P_L_Date[43+1]} | ${min_change}\"))\n",
    "\n",
    "    "
   ]
  },
  {
   "cell_type": "code",
   "execution_count": null,
   "metadata": {},
   "outputs": [],
   "source": []
  }
 ],
 "metadata": {
  "kernelspec": {
   "display_name": "Python 3",
   "language": "python",
   "name": "python3"
  },
  "language_info": {
   "codemirror_mode": {
    "name": "ipython",
    "version": 3
   },
   "file_extension": ".py",
   "mimetype": "text/x-python",
   "name": "python",
   "nbconvert_exporter": "python",
   "pygments_lexer": "ipython3",
   "version": "3.7.7"
  }
 },
 "nbformat": 4,
 "nbformat_minor": 4
}
